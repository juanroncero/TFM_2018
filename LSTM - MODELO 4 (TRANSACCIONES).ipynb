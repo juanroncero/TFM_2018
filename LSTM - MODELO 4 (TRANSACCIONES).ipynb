{
 "cells": [
  {
   "cell_type": "markdown",
   "metadata": {},
   "source": [
    "# LSTM CON DF TRANSACCIONES\n",
    "\n",
    "\n",
    "Ejemplo LSTM - https://dashee87.github.io/deep%20learning/python/predicting-cryptocurrency-prices-with-deep-learning/\n"
   ]
  },
  {
   "cell_type": "code",
   "execution_count": 1,
   "metadata": {},
   "outputs": [
    {
     "name": "stderr",
     "output_type": "stream",
     "text": [
      "Using TensorFlow backend.\n"
     ]
    }
   ],
   "source": [
    "import matplotlib.pyplot as plt\n",
    "import pandas as pd\n",
    "import numpy as np\n",
    "import time, datetime\n",
    "import math\n",
    "import warnings\n",
    "from matplotlib import style\n",
    "from keras.models import Sequential\n",
    "from keras.layers import Dense\n",
    "from keras.layers import LSTM\n",
    "from keras.layers import Dropout\n",
    "from keras.layers import Activation"
   ]
  },
  {
   "cell_type": "code",
   "execution_count": 2,
   "metadata": {},
   "outputs": [
    {
     "name": "stdout",
     "output_type": "stream",
     "text": [
      "Populating the interactive namespace from numpy and matplotlib\n"
     ]
    }
   ],
   "source": [
    "%pylab inline\n",
    "%matplotlib inline\n",
    "style.use('ggplot')\n",
    "warnings.filterwarnings('ignore')"
   ]
  },
  {
   "cell_type": "code",
   "execution_count": 3,
   "metadata": {},
   "outputs": [
    {
     "data": {
      "text/html": [
       "<div>\n",
       "<style scoped>\n",
       "    .dataframe tbody tr th:only-of-type {\n",
       "        vertical-align: middle;\n",
       "    }\n",
       "\n",
       "    .dataframe tbody tr th {\n",
       "        vertical-align: top;\n",
       "    }\n",
       "\n",
       "    .dataframe thead th {\n",
       "        text-align: right;\n",
       "    }\n",
       "</style>\n",
       "<table border=\"1\" class=\"dataframe\">\n",
       "  <thead>\n",
       "    <tr style=\"text-align: right;\">\n",
       "      <th></th>\n",
       "      <th>AMOUNT</th>\n",
       "      <th>FECHA</th>\n",
       "      <th>TIMESPAN</th>\n",
       "      <th>PRICE</th>\n",
       "      <th>TID</th>\n",
       "      <th>TIPOTRANSACCION</th>\n",
       "      <th>ID_MONEDA</th>\n",
       "    </tr>\n",
       "  </thead>\n",
       "  <tbody>\n",
       "    <tr>\n",
       "      <th>0</th>\n",
       "      <td>954.384771</td>\n",
       "      <td>2018-02-18 11:29:34</td>\n",
       "      <td>1518949774</td>\n",
       "      <td>1.07</td>\n",
       "      <td>55346698</td>\n",
       "      <td>False</td>\n",
       "      <td>5</td>\n",
       "    </tr>\n",
       "  </tbody>\n",
       "</table>\n",
       "</div>"
      ],
      "text/plain": [
       "       AMOUNT                FECHA    TIMESPAN  PRICE       TID  \\\n",
       "0  954.384771  2018-02-18 11:29:34  1518949774   1.07  55346698   \n",
       "\n",
       "   TIPOTRANSACCION  ID_MONEDA  \n",
       "0            False          5  "
      ]
     },
     "execution_count": 3,
     "metadata": {},
     "output_type": "execute_result"
    }
   ],
   "source": [
    "pathCSV = \"http://dreamlife.es/ripple.csv\"\n",
    "pathCSV =\"C:\\\\Users\\\\juan.roncero\\\\Desktop\\\\Master ML\\\\Proyecto Final\\\\Data\\\\ripple29Mayo.csv\"\n",
    "dfTransacciones = pd.read_csv(pathCSV,delimiter=\";\", decimal=\",\")\n",
    "dfTransacciones.head(1)"
   ]
  },
  {
   "cell_type": "code",
   "execution_count": 4,
   "metadata": {},
   "outputs": [],
   "source": [
    "# INDICE\n",
    "dfTransacciones[\"FECHA\"] = pd.to_datetime(dfTransacciones[\"FECHA\"])\n",
    "dfTransacciones.index = pd.to_datetime(dfTransacciones[\"FECHA\"], unit='s')"
   ]
  },
  {
   "cell_type": "code",
   "execution_count": 5,
   "metadata": {},
   "outputs": [
    {
     "data": {
      "text/html": [
       "<div>\n",
       "<style scoped>\n",
       "    .dataframe tbody tr th:only-of-type {\n",
       "        vertical-align: middle;\n",
       "    }\n",
       "\n",
       "    .dataframe tbody tr th {\n",
       "        vertical-align: top;\n",
       "    }\n",
       "\n",
       "    .dataframe thead th {\n",
       "        text-align: right;\n",
       "    }\n",
       "</style>\n",
       "<table border=\"1\" class=\"dataframe\">\n",
       "  <thead>\n",
       "    <tr style=\"text-align: right;\">\n",
       "      <th></th>\n",
       "      <th>NUM_T_COMPRA</th>\n",
       "      <th>NUM_T_VENTA</th>\n",
       "      <th>CANTIDAD_COMPRA</th>\n",
       "      <th>CANTIDAD_VENTA</th>\n",
       "      <th>VAR</th>\n",
       "      <th>DIF_DIA</th>\n",
       "      <th>CLOSE</th>\n",
       "    </tr>\n",
       "    <tr>\n",
       "      <th>FECHA</th>\n",
       "      <th></th>\n",
       "      <th></th>\n",
       "      <th></th>\n",
       "      <th></th>\n",
       "      <th></th>\n",
       "      <th></th>\n",
       "      <th></th>\n",
       "    </tr>\n",
       "  </thead>\n",
       "  <tbody>\n",
       "    <tr>\n",
       "      <th>2018-02-18 01:00:00</th>\n",
       "      <td>36</td>\n",
       "      <td>113</td>\n",
       "      <td>52332.235542</td>\n",
       "      <td>204701.514742</td>\n",
       "      <td>1.206024</td>\n",
       "      <td>-0.173504</td>\n",
       "      <td>1.16797</td>\n",
       "    </tr>\n",
       "    <tr>\n",
       "      <th>2018-02-18 01:30:00</th>\n",
       "      <td>203</td>\n",
       "      <td>28</td>\n",
       "      <td>428859.094852</td>\n",
       "      <td>42760.221449</td>\n",
       "      <td>0.850034</td>\n",
       "      <td>0.256849</td>\n",
       "      <td>1.17100</td>\n",
       "    </tr>\n",
       "    <tr>\n",
       "      <th>2018-02-18 02:00:00</th>\n",
       "      <td>111</td>\n",
       "      <td>90</td>\n",
       "      <td>105115.316973</td>\n",
       "      <td>117199.070627</td>\n",
       "      <td>0.636752</td>\n",
       "      <td>0.228156</td>\n",
       "      <td>1.17292</td>\n",
       "    </tr>\n",
       "  </tbody>\n",
       "</table>\n",
       "</div>"
      ],
      "text/plain": [
       "                     NUM_T_COMPRA  NUM_T_VENTA  CANTIDAD_COMPRA  \\\n",
       "FECHA                                                             \n",
       "2018-02-18 01:00:00            36          113     52332.235542   \n",
       "2018-02-18 01:30:00           203           28    428859.094852   \n",
       "2018-02-18 02:00:00           111           90    105115.316973   \n",
       "\n",
       "                     CANTIDAD_VENTA       VAR   DIF_DIA    CLOSE  \n",
       "FECHA                                                             \n",
       "2018-02-18 01:00:00   204701.514742  1.206024 -0.173504  1.16797  \n",
       "2018-02-18 01:30:00    42760.221449  0.850034  0.256849  1.17100  \n",
       "2018-02-18 02:00:00   117199.070627  0.636752  0.228156  1.17292  "
      ]
     },
     "execution_count": 5,
     "metadata": {},
     "output_type": "execute_result"
    }
   ],
   "source": [
    "df = dfTransacciones\n",
    "dfCompras = dfTransacciones[dfTransacciones[\"TIPOTRANSACCION\"]==False]\n",
    "dfVentas = dfTransacciones[dfTransacciones[\"TIPOTRANSACCION\"]==True]\n",
    "\n",
    "# NUEVAS COLUMNAS\n",
    "df[\"HIGH\"] = df[\"PRICE\"]\n",
    "df['LOW'] = df[\"PRICE\"]\n",
    "#df[\"OPEN\"] = df[\"OPEN\"]\n",
    "#df['CLOSE'] = df[\"CLOSE\"]\n",
    "df['CANTIDAD_TOTAL'] = df[\"AMOUNT\"]\n",
    "dfCompras['NUM_T_COMPRA'] = dfCompras[\"AMOUNT\"]\n",
    "dfVentas['NUM_T_VENTA'] = dfVentas[\"AMOUNT\"]\n",
    "\n",
    "# MAXIMO, MINIMO, CANTIDAD_TOTAL\n",
    "df1 = df.groupby(pd.Grouper(key='FECHA', freq=\"30Min\")).agg({'HIGH':np.max, 'LOW':np.min,'CANTIDAD_TOTAL':np.sum})\n",
    "\n",
    "# NÚMERO DE TRANSACCIONES DE COMPRA\n",
    "df2 = dfCompras.groupby(pd.Grouper(key='FECHA', freq=\"30Min\")).count()\n",
    "df2 = df2['NUM_T_COMPRA']\n",
    "\n",
    "# NÚMERO DE TRANSACCIONES DE VENTA\n",
    "df3 = dfVentas.groupby(pd.Grouper(key='FECHA', freq=\"30Min\")).count()\n",
    "df3 = df3['NUM_T_VENTA']\n",
    "\n",
    "# CANTIDAD TOTAL DE MONEDA COMPRADA\n",
    "df4 = dfCompras.groupby(pd.Grouper(key='FECHA', freq=\"30Min\")).sum() \n",
    "df4[\"CANTIDAD_COMPRA\"] = df4['AMOUNT']\n",
    "df4 = df4['CANTIDAD_COMPRA']\n",
    "\n",
    "# CANTIDAD TOTAL DE MONEDA VENDIDA\n",
    "df5 = dfVentas.groupby(pd.Grouper(key='FECHA', freq=\"30Min\")).sum()\n",
    "df5[\"CANTIDAD_VENTA\"] = df5['AMOUNT']\n",
    "df5 = df5['CANTIDAD_VENTA']\n",
    "\n",
    "# OPEN\n",
    "df6 = df.groupby(pd.Grouper(key='FECHA', freq=\"30Min\")).first()\n",
    "df6[\"OPEN\"] = df6[\"PRICE\"]\n",
    "df6= df6[\"OPEN\"]\n",
    "\n",
    "# CLOSE\n",
    "df7 = df.groupby(pd.Grouper(key='FECHA', freq=\"30Min\")).last()\n",
    "df7[\"CLOSE\"] = df7[\"PRICE\"]\n",
    "df7= df7[\"CLOSE\"]\n",
    "\n",
    "df = pd.concat([df1, df2, df3, df4, df5, df6, df7], axis=1)\n",
    "\n",
    "# NUEVAS COLUMNAS CALCULADAS\n",
    "df['VAR'] = (df['HIGH'] - df['LOW'])/df['LOW'] * 100\n",
    "df['DIF_DIA'] = (df['CLOSE'] - df['OPEN'])/df['OPEN'] * 100\n",
    "\n",
    "# FILTRAMOS COLUMNAS \n",
    "df = df[['NUM_T_COMPRA','NUM_T_VENTA','CANTIDAD_COMPRA','CANTIDAD_VENTA','VAR','DIF_DIA','CLOSE']]\n",
    "\n",
    "df = df.dropna()\n",
    "\n",
    "df.head(3)"
   ]
  },
  {
   "cell_type": "code",
   "execution_count": 6,
   "metadata": {},
   "outputs": [
    {
     "data": {
      "text/plain": [
       "<matplotlib.legend.Legend at 0xbf43eb8>"
      ]
     },
     "execution_count": 6,
     "metadata": {},
     "output_type": "execute_result"
    },
    {
     "data": {
      "image/png": "[encoded data removed]",
      "text/plain": [
       "<matplotlib.figure.Figure at 0xbe93400>"
      ]
     },
     "metadata": {},
     "output_type": "display_data"
    }
   ],
   "source": [
    "test_size=0.1\n",
    "split_row = len(df) - int(test_size * len(df))\n",
    "train_data = df.iloc[:split_row]\n",
    "test_data = df.iloc[split_row:]\n",
    "\n",
    "fig, ax = plt.subplots(1, figsize=(16, 9))\n",
    "ax.plot(train_data.CLOSE, label=\"DATOS DE ENTRENAMIENTO\", linewidth=2)\n",
    "ax.plot(test_data.CLOSE, label=\"DATOS DE PRUEBA\", linewidth=2)\n",
    "ax.set_ylabel('PRECIO [XRP]', fontsize=14)\n",
    "ax.set_title(\"PREPARACION DE DATOS\", fontsize=18)\n",
    "ax.legend(loc='best', fontsize=18)\n"
   ]
  },
  {
   "cell_type": "code",
   "execution_count": 7,
   "metadata": {},
   "outputs": [],
   "source": [
    "def normalise_zero_base(df):\n",
    "    \"\"\" Normalise dataframe column-wise to reflect changes with\n",
    "        respect to first entry.\n",
    "    \"\"\"\n",
    "    return df / df.iloc[0] - 1\n",
    "\n",
    "def extract_window_data(df, window=7):\n",
    "    \"\"\" Convert dataframe to overlapping sequences/windows of\n",
    "        length `window`.\n",
    "    \"\"\"\n",
    "    window_data = []\n",
    "    for idx in range(len(df) - window):\n",
    "        tmp = df[idx: (idx + window)].copy()\n",
    "        tmp = normalise_zero_base(tmp)\n",
    "        window_data.append(tmp.values)\n",
    "    return np.array(window_data)"
   ]
  },
  {
   "cell_type": "code",
   "execution_count": 8,
   "metadata": {},
   "outputs": [
    {
     "data": {
      "text/html": [
       "<div>\n",
       "<style scoped>\n",
       "    .dataframe tbody tr th:only-of-type {\n",
       "        vertical-align: middle;\n",
       "    }\n",
       "\n",
       "    .dataframe tbody tr th {\n",
       "        vertical-align: top;\n",
       "    }\n",
       "\n",
       "    .dataframe thead th {\n",
       "        text-align: right;\n",
       "    }\n",
       "</style>\n",
       "<table border=\"1\" class=\"dataframe\">\n",
       "  <thead>\n",
       "    <tr style=\"text-align: right;\">\n",
       "      <th></th>\n",
       "      <th>NUM_T_COMPRA</th>\n",
       "      <th>NUM_T_VENTA</th>\n",
       "      <th>CANTIDAD_COMPRA</th>\n",
       "      <th>CANTIDAD_VENTA</th>\n",
       "      <th>VAR</th>\n",
       "      <th>DIF_DIA</th>\n",
       "      <th>CLOSE</th>\n",
       "    </tr>\n",
       "    <tr>\n",
       "      <th>FECHA</th>\n",
       "      <th></th>\n",
       "      <th></th>\n",
       "      <th></th>\n",
       "      <th></th>\n",
       "      <th></th>\n",
       "      <th></th>\n",
       "      <th></th>\n",
       "    </tr>\n",
       "  </thead>\n",
       "  <tbody>\n",
       "    <tr>\n",
       "      <th>2018-02-18 01:00:00</th>\n",
       "      <td>36</td>\n",
       "      <td>113</td>\n",
       "      <td>52332.235542</td>\n",
       "      <td>204701.514742</td>\n",
       "      <td>1.206024</td>\n",
       "      <td>-0.173504</td>\n",
       "      <td>1.16797</td>\n",
       "    </tr>\n",
       "    <tr>\n",
       "      <th>2018-02-18 01:30:00</th>\n",
       "      <td>203</td>\n",
       "      <td>28</td>\n",
       "      <td>428859.094852</td>\n",
       "      <td>42760.221449</td>\n",
       "      <td>0.850034</td>\n",
       "      <td>0.256849</td>\n",
       "      <td>1.17100</td>\n",
       "    </tr>\n",
       "    <tr>\n",
       "      <th>2018-02-18 02:00:00</th>\n",
       "      <td>111</td>\n",
       "      <td>90</td>\n",
       "      <td>105115.316973</td>\n",
       "      <td>117199.070627</td>\n",
       "      <td>0.636752</td>\n",
       "      <td>0.228156</td>\n",
       "      <td>1.17292</td>\n",
       "    </tr>\n",
       "    <tr>\n",
       "      <th>2018-02-18 02:30:00</th>\n",
       "      <td>36</td>\n",
       "      <td>92</td>\n",
       "      <td>32214.649095</td>\n",
       "      <td>107239.826570</td>\n",
       "      <td>0.813196</td>\n",
       "      <td>-0.456827</td>\n",
       "      <td>1.17013</td>\n",
       "    </tr>\n",
       "    <tr>\n",
       "      <th>2018-02-18 03:00:00</th>\n",
       "      <td>66</td>\n",
       "      <td>141</td>\n",
       "      <td>19158.535265</td>\n",
       "      <td>151231.347337</td>\n",
       "      <td>1.077330</td>\n",
       "      <td>-0.352098</td>\n",
       "      <td>1.16601</td>\n",
       "    </tr>\n",
       "  </tbody>\n",
       "</table>\n",
       "</div>"
      ],
      "text/plain": [
       "                     NUM_T_COMPRA  NUM_T_VENTA  CANTIDAD_COMPRA  \\\n",
       "FECHA                                                             \n",
       "2018-02-18 01:00:00            36          113     52332.235542   \n",
       "2018-02-18 01:30:00           203           28    428859.094852   \n",
       "2018-02-18 02:00:00           111           90    105115.316973   \n",
       "2018-02-18 02:30:00            36           92     32214.649095   \n",
       "2018-02-18 03:00:00            66          141     19158.535265   \n",
       "\n",
       "                     CANTIDAD_VENTA       VAR   DIF_DIA    CLOSE  \n",
       "FECHA                                                             \n",
       "2018-02-18 01:00:00   204701.514742  1.206024 -0.173504  1.16797  \n",
       "2018-02-18 01:30:00    42760.221449  0.850034  0.256849  1.17100  \n",
       "2018-02-18 02:00:00   117199.070627  0.636752  0.228156  1.17292  \n",
       "2018-02-18 02:30:00   107239.826570  0.813196 -0.456827  1.17013  \n",
       "2018-02-18 03:00:00   151231.347337  1.077330 -0.352098  1.16601  "
      ]
     },
     "execution_count": 8,
     "metadata": {},
     "output_type": "execute_result"
    }
   ],
   "source": [
    "df.head()"
   ]
  },
  {
   "cell_type": "code",
   "execution_count": 11,
   "metadata": {},
   "outputs": [],
   "source": [
    "window = 7\n",
    "X_train = extract_window_data(train_data, window)\n",
    "X_test = extract_window_data(test_data, window)"
   ]
  },
  {
   "cell_type": "code",
   "execution_count": null,
   "metadata": {},
   "outputs": [],
   "source": [
    "# 3616 len(X_train)\n",
    "#  395 len(X_test)\n",
    "# 3616 len(y_train)\n",
    "#  395 len(y_test)"
   ]
  },
  {
   "cell_type": "code",
   "execution_count": null,
   "metadata": {},
   "outputs": [],
   "source": [
    "# X_train (valores normalizados de todos los datos)"
   ]
  },
  {
   "cell_type": "code",
   "execution_count": 12,
   "metadata": {},
   "outputs": [
    {
     "data": {
      "text/plain": [
       "[<matplotlib.lines.Line2D at 0xf3e6f60>]"
      ]
     },
     "execution_count": 12,
     "metadata": {},
     "output_type": "execute_result"
    },
    {
     "data": {
      "image/png": "[encoded data removed]",
      "text/plain": [
       "<matplotlib.figure.Figure at 0xf3f93c8>"
      ]
     },
     "metadata": {},
     "output_type": "display_data"
    }
   ],
   "source": [
    "y_train = train_data.CLOSE[window:].values\n",
    "y_test = test_data.CLOSE[window:].values\n",
    "\n",
    "plt.plot(y_train)\n",
    "plt.plot(y_test)"
   ]
  },
  {
   "cell_type": "code",
   "execution_count": 13,
   "metadata": {},
   "outputs": [],
   "source": [
    "# Normalizamos\n",
    "y_train = y_train / train_data.CLOSE[:-window].values - 1\n",
    "y_test = y_test / test_data.CLOSE[:-window].values - 1"
   ]
  },
  {
   "cell_type": "code",
   "execution_count": 14,
   "metadata": {},
   "outputs": [],
   "source": [
    "split_row = len(df) - int(test_size * len(df))\n",
    "train_data = df.iloc[:split_row]\n",
    "test_data = df.iloc[split_row:]\n",
    "\n",
    "def normalise_zero_base(df):\n",
    "    \"\"\" Normalise dataframe column-wise to reflect changes with\n",
    "        respect to first entry.\n",
    "    \"\"\"\n",
    "    return df / df.iloc[0] - 1\n"
   ]
  },
  {
   "cell_type": "code",
   "execution_count": 15,
   "metadata": {},
   "outputs": [
    {
     "data": {
      "text/html": [
       "<div>\n",
       "<style scoped>\n",
       "    .dataframe tbody tr th:only-of-type {\n",
       "        vertical-align: middle;\n",
       "    }\n",
       "\n",
       "    .dataframe tbody tr th {\n",
       "        vertical-align: top;\n",
       "    }\n",
       "\n",
       "    .dataframe thead th {\n",
       "        text-align: right;\n",
       "    }\n",
       "</style>\n",
       "<table border=\"1\" class=\"dataframe\">\n",
       "  <thead>\n",
       "    <tr style=\"text-align: right;\">\n",
       "      <th></th>\n",
       "      <th>close</th>\n",
       "      <th>high</th>\n",
       "      <th>low</th>\n",
       "      <th>open</th>\n",
       "      <th>volumefrom</th>\n",
       "      <th>volumeto</th>\n",
       "    </tr>\n",
       "    <tr>\n",
       "      <th>time</th>\n",
       "      <th></th>\n",
       "      <th></th>\n",
       "      <th></th>\n",
       "      <th></th>\n",
       "      <th></th>\n",
       "      <th></th>\n",
       "    </tr>\n",
       "  </thead>\n",
       "  <tbody>\n",
       "    <tr>\n",
       "      <th>2013-01-10</th>\n",
       "      <td>14.14</td>\n",
       "      <td>14.32</td>\n",
       "      <td>13.77</td>\n",
       "      <td>13.77</td>\n",
       "      <td>51811.03</td>\n",
       "      <td>727790.48</td>\n",
       "    </tr>\n",
       "    <tr>\n",
       "      <th>2013-01-11</th>\n",
       "      <td>14.14</td>\n",
       "      <td>14.35</td>\n",
       "      <td>13.91</td>\n",
       "      <td>14.14</td>\n",
       "      <td>40434.54</td>\n",
       "      <td>570677.27</td>\n",
       "    </tr>\n",
       "    <tr>\n",
       "      <th>2013-01-12</th>\n",
       "      <td>14.24</td>\n",
       "      <td>14.34</td>\n",
       "      <td>13.98</td>\n",
       "      <td>14.14</td>\n",
       "      <td>26931.84</td>\n",
       "      <td>381546.96</td>\n",
       "    </tr>\n",
       "    <tr>\n",
       "      <th>2013-01-13</th>\n",
       "      <td>14.12</td>\n",
       "      <td>14.31</td>\n",
       "      <td>13.95</td>\n",
       "      <td>14.24</td>\n",
       "      <td>38330.15</td>\n",
       "      <td>540759.58</td>\n",
       "    </tr>\n",
       "    <tr>\n",
       "      <th>2013-01-14</th>\n",
       "      <td>14.30</td>\n",
       "      <td>14.35</td>\n",
       "      <td>14.11</td>\n",
       "      <td>14.12</td>\n",
       "      <td>22096.95</td>\n",
       "      <td>315016.66</td>\n",
       "    </tr>\n",
       "  </tbody>\n",
       "</table>\n",
       "</div>"
      ],
      "text/plain": [
       "            close   high    low   open  volumefrom   volumeto\n",
       "time                                                         \n",
       "2013-01-10  14.14  14.32  13.77  13.77    51811.03  727790.48\n",
       "2013-01-11  14.14  14.35  13.91  14.14    40434.54  570677.27\n",
       "2013-01-12  14.24  14.34  13.98  14.14    26931.84  381546.96\n",
       "2013-01-13  14.12  14.31  13.95  14.24    38330.15  540759.58\n",
       "2013-01-14  14.30  14.35  14.11  14.12    22096.95  315016.66"
      ]
     },
     "execution_count": 15,
     "metadata": {},
     "output_type": "execute_result"
    }
   ],
   "source": [
    "import json\n",
    "import requests\n",
    "endpoint = 'https://min-api.cryptocompare.com/data/histoday'\n",
    "res = requests.get(endpoint + '?fsym=BTC&tsym=USD&limit=2000')\n",
    "hist = pd.DataFrame(json.loads(res.content)['Data'])\n",
    "hist = hist.set_index('time')\n",
    "hist.index = pd.to_datetime(hist.index, unit='s')\n",
    "hist.head()"
   ]
  },
  {
   "cell_type": "code",
   "execution_count": 16,
   "metadata": {},
   "outputs": [],
   "source": [
    "# extract window data\n",
    "X_train = extract_window_data(train_data, window)\n",
    "X_test = extract_window_data(test_data, window)\n",
    "\n",
    "# extract targets\n",
    "y_train = train_data.CLOSE[window:].values\n",
    "y_test = test_data.CLOSE[window:].values\n",
    "\n",
    "y_train = y_train / train_data.CLOSE[:-window].values - 1\n",
    "y_test = y_test / test_data.CLOSE[:-window].values - 1"
   ]
  },
  {
   "cell_type": "code",
   "execution_count": 17,
   "metadata": {},
   "outputs": [],
   "source": [
    "# PARÁMETROS MODELO\n",
    "neurons=20\n",
    "activ_func='linear'\n",
    "dropout=0.25\n",
    "loss='mae' \n",
    "optimizer='adam'\n"
   ]
  },
  {
   "cell_type": "code",
   "execution_count": 18,
   "metadata": {},
   "outputs": [
    {
     "name": "stdout",
     "output_type": "stream",
     "text": [
      "Epoch 1/50\n",
      "3616/3616 [==============================] - 4s 1ms/step - loss: nan\n",
      "Epoch 2/50\n",
      "3616/3616 [==============================] - 4s 1ms/step - loss: nan\n",
      "Epoch 3/50\n",
      "3616/3616 [==============================] - 5s 1ms/step - loss: nan\n",
      "Epoch 4/50\n",
      "3616/3616 [==============================] - 5s 1ms/step - loss: nan\n",
      "Epoch 5/50\n",
      "3616/3616 [==============================] - 5s 1ms/step - loss: nan\n",
      "Epoch 6/50\n",
      "3616/3616 [==============================] - 4s 1ms/step - loss: nan\n",
      "Epoch 7/50\n",
      "3616/3616 [==============================] - 4s 1ms/step - loss: nan\n",
      "Epoch 8/50\n",
      "3616/3616 [==============================] - 5s 1ms/step - loss: nan\n",
      "Epoch 9/50\n",
      "3616/3616 [==============================] - 4s 1ms/step - loss: nan\n",
      "Epoch 10/50\n",
      "3616/3616 [==============================] - 5s 1ms/step - loss: nan\n",
      "Epoch 11/50\n",
      "3616/3616 [==============================] - 5s 1ms/step - loss: nan\n",
      "Epoch 12/50\n",
      "3616/3616 [==============================] - 5s 1ms/step - loss: nan\n",
      "Epoch 13/50\n",
      "3616/3616 [==============================] - 4s 1ms/step - loss: nan\n",
      "Epoch 14/50\n",
      "3616/3616 [==============================] - 4s 1ms/step - loss: nan\n",
      "Epoch 15/50\n",
      "3616/3616 [==============================] - 4s 1ms/step - loss: nan\n",
      "Epoch 16/50\n",
      "3616/3616 [==============================] - 4s 1ms/step - loss: nan\n",
      "Epoch 17/50\n",
      "3616/3616 [==============================] - 4s 1ms/step - loss: nan\n",
      "Epoch 18/50\n",
      "3616/3616 [==============================] - 4s 1ms/step - loss: nan\n",
      "Epoch 19/50\n",
      "3616/3616 [==============================] - 4s 1ms/step - loss: nan\n",
      "Epoch 20/50\n",
      "3616/3616 [==============================] - 4s 1ms/step - loss: nan\n",
      "Epoch 21/50\n",
      "3616/3616 [==============================] - 4s 1ms/step - loss: nan\n",
      "Epoch 22/50\n",
      "3616/3616 [==============================] - 4s 1ms/step - loss: nan\n",
      "Epoch 23/50\n",
      "3616/3616 [==============================] - 4s 1ms/step - loss: nan\n",
      "Epoch 24/50\n",
      "3616/3616 [==============================] - 4s 1ms/step - loss: nan\n",
      "Epoch 25/50\n",
      "3616/3616 [==============================] - 4s 1ms/step - loss: nan\n",
      "Epoch 26/50\n",
      "3616/3616 [==============================] - 4s 1ms/step - loss: nan\n",
      "Epoch 27/50\n",
      "3616/3616 [==============================] - 4s 1ms/step - loss: nan\n",
      "Epoch 28/50\n",
      "3616/3616 [==============================] - 4s 1ms/step - loss: nan\n",
      "Epoch 29/50\n",
      "3616/3616 [==============================] - 4s 1ms/step - loss: nan\n",
      "Epoch 30/50\n",
      "3616/3616 [==============================] - 4s 1ms/step - loss: nan\n",
      "Epoch 31/50\n",
      "3616/3616 [==============================] - 4s 1ms/step - loss: nan\n",
      "Epoch 32/50\n",
      "3616/3616 [==============================] - 4s 1ms/step - loss: nan\n",
      "Epoch 33/50\n",
      "3616/3616 [==============================] - 4s 1ms/step - loss: nan\n",
      "Epoch 34/50\n",
      "3616/3616 [==============================] - 4s 1ms/step - loss: nan\n",
      "Epoch 35/50\n",
      "3616/3616 [==============================] - 4s 1ms/step - loss: nan\n",
      "Epoch 36/50\n",
      "3616/3616 [==============================] - 4s 1ms/step - loss: nan\n",
      "Epoch 37/50\n",
      "3616/3616 [==============================] - 4s 1ms/step - loss: nan\n",
      "Epoch 38/50\n",
      "3616/3616 [==============================] - 4s 1ms/step - loss: nan\n",
      "Epoch 39/50\n",
      "3616/3616 [==============================] - 5s 1ms/step - loss: nan\n",
      "Epoch 40/50\n",
      "3616/3616 [==============================] - 4s 1ms/step - loss: nan\n",
      "Epoch 41/50\n",
      "3616/3616 [==============================] - 4s 1ms/step - loss: nan\n",
      "Epoch 42/50\n",
      "3616/3616 [==============================] - 4s 1ms/step - loss: nan\n",
      "Epoch 43/50\n",
      "3616/3616 [==============================] - 4s 1ms/step - loss: nan\n",
      "Epoch 44/50\n",
      "3616/3616 [==============================] - 4s 1ms/step - loss: nan\n",
      "Epoch 45/50\n",
      "3616/3616 [==============================] - 4s 1ms/step - loss: nan\n",
      "Epoch 46/50\n",
      "3616/3616 [==============================] - 4s 1ms/step - loss: nan\n",
      "Epoch 47/50\n",
      "3616/3616 [==============================] - 4s 1ms/step - loss: nan\n",
      "Epoch 48/50\n",
      "3616/3616 [==============================] - 4s 1ms/step - loss: nan\n",
      "Epoch 49/50\n",
      "3616/3616 [==============================] - 4s 1ms/step - loss: nan\n",
      "Epoch 50/50\n",
      "3616/3616 [==============================] - 5s 1ms/step - loss: nan\n"
     ]
    }
   ],
   "source": [
    "model = Sequential()\n",
    "\n",
    "model.add(LSTM(neurons, input_shape=(X_train.shape[1], X_train.shape[2])))\n",
    "model.add(Dropout(dropout))\n",
    "model.add(Dense(units=1))\n",
    "model.add(Activation(activ_func))\n",
    "\n",
    "model.compile(loss=loss, optimizer=optimizer)\n",
    "history = model.fit(X_train, y_train, epochs=50, batch_size=4)"
   ]
  },
  {
   "cell_type": "code",
   "execution_count": 69,
   "metadata": {},
   "outputs": [],
   "source": [
    "preds = model.predict(X_test).squeeze()"
   ]
  },
  {
   "cell_type": "code",
   "execution_count": 70,
   "metadata": {},
   "outputs": [
    {
     "data": {
      "text/plain": [
       "array([ nan,  nan,  nan,  nan,  nan,  nan,  nan,  nan,  nan,  nan,  nan,\n",
       "        nan,  nan,  nan,  nan,  nan,  nan,  nan,  nan,  nan,  nan,  nan,\n",
       "        nan,  nan,  nan,  nan,  nan,  nan,  nan,  nan,  nan,  nan,  nan,\n",
       "        nan,  nan,  nan,  nan,  nan,  nan,  nan,  nan,  nan,  nan,  nan,\n",
       "        nan,  nan,  nan,  nan,  nan,  nan,  nan,  nan,  nan,  nan,  nan,\n",
       "        nan,  nan,  nan,  nan,  nan,  nan,  nan,  nan,  nan,  nan,  nan,\n",
       "        nan,  nan,  nan,  nan,  nan,  nan,  nan,  nan,  nan,  nan,  nan,\n",
       "        nan,  nan,  nan,  nan,  nan,  nan,  nan,  nan,  nan,  nan,  nan,\n",
       "        nan,  nan,  nan,  nan,  nan,  nan,  nan,  nan,  nan,  nan,  nan,\n",
       "        nan,  nan,  nan,  nan,  nan,  nan,  nan,  nan,  nan,  nan,  nan,\n",
       "        nan,  nan,  nan,  nan,  nan,  nan,  nan,  nan,  nan,  nan,  nan,\n",
       "        nan,  nan,  nan,  nan,  nan,  nan,  nan,  nan,  nan,  nan,  nan,\n",
       "        nan,  nan,  nan,  nan,  nan,  nan,  nan,  nan,  nan,  nan,  nan,\n",
       "        nan,  nan,  nan,  nan,  nan,  nan,  nan,  nan,  nan,  nan,  nan,\n",
       "        nan,  nan,  nan,  nan,  nan,  nan,  nan,  nan,  nan,  nan,  nan,\n",
       "        nan,  nan,  nan,  nan,  nan,  nan,  nan,  nan,  nan,  nan,  nan,\n",
       "        nan,  nan,  nan,  nan,  nan,  nan,  nan,  nan,  nan,  nan,  nan,\n",
       "        nan,  nan,  nan,  nan,  nan,  nan,  nan,  nan,  nan,  nan,  nan,\n",
       "        nan,  nan,  nan,  nan,  nan,  nan,  nan,  nan,  nan,  nan,  nan,\n",
       "        nan,  nan,  nan,  nan,  nan,  nan,  nan,  nan,  nan,  nan,  nan,\n",
       "        nan,  nan,  nan,  nan,  nan,  nan,  nan,  nan,  nan,  nan,  nan,\n",
       "        nan,  nan,  nan,  nan,  nan,  nan,  nan,  nan,  nan,  nan,  nan,\n",
       "        nan,  nan,  nan,  nan,  nan,  nan,  nan,  nan,  nan,  nan,  nan,\n",
       "        nan,  nan,  nan,  nan,  nan,  nan,  nan,  nan,  nan,  nan,  nan,\n",
       "        nan,  nan,  nan,  nan,  nan,  nan,  nan,  nan,  nan,  nan,  nan,\n",
       "        nan,  nan,  nan,  nan,  nan,  nan,  nan,  nan,  nan,  nan,  nan,\n",
       "        nan,  nan,  nan,  nan,  nan,  nan,  nan,  nan,  nan,  nan,  nan,\n",
       "        nan,  nan,  nan,  nan,  nan,  nan,  nan,  nan,  nan,  nan,  nan,\n",
       "        nan,  nan,  nan,  nan,  nan,  nan,  nan,  nan,  nan,  nan,  nan,\n",
       "        nan,  nan,  nan,  nan,  nan,  nan,  nan,  nan,  nan,  nan,  nan,\n",
       "        nan,  nan,  nan,  nan,  nan,  nan,  nan,  nan,  nan,  nan,  nan,\n",
       "        nan,  nan,  nan,  nan,  nan,  nan,  nan,  nan,  nan,  nan,  nan,\n",
       "        nan,  nan,  nan,  nan,  nan,  nan,  nan,  nan,  nan,  nan,  nan,\n",
       "        nan,  nan,  nan,  nan,  nan,  nan,  nan,  nan,  nan,  nan,  nan,\n",
       "        nan,  nan,  nan,  nan,  nan,  nan,  nan,  nan,  nan,  nan,  nan,\n",
       "        nan,  nan,  nan,  nan,  nan,  nan,  nan,  nan,  nan,  nan], dtype=float32)"
      ]
     },
     "execution_count": 70,
     "metadata": {},
     "output_type": "execute_result"
    }
   ],
   "source": [
    "preds"
   ]
  },
  {
   "cell_type": "code",
   "execution_count": null,
   "metadata": {},
   "outputs": [],
   "source": []
  }
 ],
 "metadata": {
  "kernelspec": {
   "display_name": "Python 3",
   "language": "python",
   "name": "python3"
  },
  "language_info": {
   "codemirror_mode": {
    "name": "ipython",
    "version": 3
   },
   "file_extension": ".py",
   "mimetype": "text/x-python",
   "name": "python",
   "nbconvert_exporter": "python",
   "pygments_lexer": "ipython3",
   "version": "3.6.4"
  }
 },
 "nbformat": 4,
 "nbformat_minor": 2
}
